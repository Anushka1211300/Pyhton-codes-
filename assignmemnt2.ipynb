{
  "nbformat": 4,
  "nbformat_minor": 0,
  "metadata": {
    "colab": {
      "name": "assignmemnt2.ipynb",
      "provenance": [],
      "include_colab_link": true
    },
    "kernelspec": {
      "name": "python3",
      "display_name": "Python 3"
    },
    "language_info": {
      "name": "python"
    }
  },
  "cells": [
    {
      "cell_type": "markdown",
      "metadata": {
        "id": "view-in-github",
        "colab_type": "text"
      },
      "source": [
        "<a href=\"https://colab.research.google.com/github/Anushka1211300/Pyhton-codes-/blob/main/assignmemnt2.ipynb\" target=\"_parent\"><img src=\"https://colab.research.google.com/assets/colab-badge.svg\" alt=\"Open In Colab\"/></a>"
      ]
    },
    {
      "cell_type": "markdown",
      "metadata": {
        "id": "M29v9-12CNA5"
      },
      "source": [
        "take a user input list of any length and print mean,median,mode.\n",
        "\n",
        "mean=sum of observations/total number of observations\n",
        "\n",
        "median=for even numbered list: average of middle terms\n",
        "       for odd numbered list : middle term\n",
        "\n",
        "mode= most repeated value\n",
        "\n",
        "*note: for calculating median,values must be sorted*"
      ]
    },
    {
      "cell_type": "code",
      "metadata": {
        "id": "SrsxBF0jByEU",
        "colab": {
          "base_uri": "https://localhost:8080/"
        },
        "outputId": "8a237c3f-3a54-400c-9a4b-01f7ec454c94"
      },
      "source": [
        "from collections import Counter\n",
        "\n",
        "sum=0\n",
        "n=-1\n",
        "lst = []\n",
        "while (n < 0):\n",
        "\n",
        "      n_num = int(input(\"enter the  number of observations : \"))\n",
        "      n =n_num\n",
        "      for i in range(0,n):\n",
        "         a= int(input(\"enter your observations : \"))\n",
        "         sum = sum + a\n",
        "         lst.append(a)\n",
        "         data = Counter(lst)\n",
        "         get_mode = dict(data)\n",
        "         mode = [k for k, v in get_mode.items() if v == max(list(data.values()))]\n",
        "  \n",
        "         \n",
        "      lst.sort()\n",
        "      if n % 2 == 0:\n",
        "         median1 = lst[n//2]\n",
        "         median2 = lst[n//2 - 1]\n",
        "         median = (median1 + median2)/2\n",
        "      else:\n",
        "         median = lst[n//2]\n",
        "\n",
        "mean = sum /n\n",
        "if len(mode) == n:\n",
        "             get_mode = \"No mode found\"\n",
        "else:\n",
        "             get_mode = \"Mode is / are: \" + ', '.join(map(str, mode))\n",
        "      \n",
        "  \n",
        "print(\"Mean / Average is: \" + str(mean))\n",
        "print(\"Median is: \" + str(median))\n",
        "print(\"mode is: \"+str(get_mode))"
      ],
      "execution_count": 19,
      "outputs": [
        {
          "output_type": "stream",
          "text": [
            "enter the  number of observations : 6\n",
            "enter your observations : 1\n",
            "enter your observations : 2\n",
            "enter your observations : 3\n",
            "enter your observations : 4\n",
            "enter your observations : 5\n",
            "enter your observations : 5\n",
            "Mean / Average is: 3.3333333333333335\n",
            "Median is: 3.5\n",
            "mode is: Mode is / are: 5\n"
          ],
          "name": "stdout"
        }
      ]
    }
  ]
}